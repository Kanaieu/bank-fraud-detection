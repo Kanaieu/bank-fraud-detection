{
 "cells": [
  {
   "cell_type": "markdown",
   "metadata": {
    "id": "fKADPWcFKlj3"
   },
   "source": [
    "# **1. Import Library**"
   ]
  },
  {
   "cell_type": "markdown",
   "metadata": {
    "id": "LgA3ERnVn84N"
   },
   "source": [
    "Pada tahap ini, Anda perlu mengimpor beberapa pustaka (library) Python yang dibutuhkan untuk analisis data dan pembangunan model machine learning."
   ]
  },
  {
   "cell_type": "code",
   "execution_count": 1,
   "metadata": {
    "id": "BlmvjLY9M4Yj"
   },
   "outputs": [],
   "source": [
    "import pandas as pd\n",
    "import numpy as np\n",
    "import matplotlib.pyplot as plt\n",
    "import seaborn as sns\n",
    "\n",
    "from sklearn.model_selection import train_test_split\n",
    "from sklearn.preprocessing import StandardScaler, OneHotEncoder\n",
    "from sklearn.compose import ColumnTransformer\n",
    "from sklearn.pipeline import Pipeline\n",
    "from sklearn.tree import DecisionTreeClassifier\n",
    "from sklearn.ensemble import RandomForestClassifier\n",
    "from sklearn.model_selection import GridSearchCV\n",
    "from sklearn.metrics import accuracy_score, f1_score, precision_score, recall_score, confusion_matrix, classification_report"
   ]
  },
  {
   "cell_type": "markdown",
   "metadata": {
    "id": "f3YIEnAFKrKL"
   },
   "source": [
    "# **2. Memuat Dataset dari Hasil Clustering**"
   ]
  },
  {
   "cell_type": "markdown",
   "metadata": {
    "id": "Ey3ItwTen_7E"
   },
   "source": [
    "Memuat dataset hasil clustering dari file CSV ke dalam variabel DataFrame."
   ]
  },
  {
   "cell_type": "code",
   "execution_count": 2,
   "metadata": {
    "id": "GHCGNTyrM5fS"
   },
   "outputs": [],
   "source": [
    "df_classification = pd.read_csv(\"Dataset_klasifikasi.csv\")"
   ]
  },
  {
   "cell_type": "code",
   "execution_count": 3,
   "metadata": {},
   "outputs": [],
   "source": [
    "# Memindahkan kolom AccountStatus ke posisi paling kanan\n",
    "columns_order = [col for col in df_classification.columns if col != \"AccountStatus\"] + [\"AccountStatus\"]\n",
    "df_classification = df_classification[columns_order]"
   ]
  },
  {
   "cell_type": "code",
   "execution_count": 4,
   "metadata": {},
   "outputs": [
    {
     "data": {
      "text/html": [
       "<div>\n",
       "<style scoped>\n",
       "    .dataframe tbody tr th:only-of-type {\n",
       "        vertical-align: middle;\n",
       "    }\n",
       "\n",
       "    .dataframe tbody tr th {\n",
       "        vertical-align: top;\n",
       "    }\n",
       "\n",
       "    .dataframe thead th {\n",
       "        text-align: right;\n",
       "    }\n",
       "</style>\n",
       "<table border=\"1\" class=\"dataframe\">\n",
       "  <thead>\n",
       "    <tr style=\"text-align: right;\">\n",
       "      <th></th>\n",
       "      <th>TransactionAmount</th>\n",
       "      <th>Location</th>\n",
       "      <th>CustomerAge</th>\n",
       "      <th>TransactionDuration</th>\n",
       "      <th>LoginAttempts</th>\n",
       "      <th>AccountBalance</th>\n",
       "      <th>TransactionType</th>\n",
       "      <th>Channel</th>\n",
       "      <th>CustomerOccupation</th>\n",
       "      <th>AccountStatus</th>\n",
       "    </tr>\n",
       "  </thead>\n",
       "  <tbody>\n",
       "    <tr>\n",
       "      <th>0</th>\n",
       "      <td>14.09</td>\n",
       "      <td>Austin</td>\n",
       "      <td>70.0</td>\n",
       "      <td>81.0</td>\n",
       "      <td>1.0</td>\n",
       "      <td>5112.21</td>\n",
       "      <td>Debit</td>\n",
       "      <td>ATM</td>\n",
       "      <td>Doctor</td>\n",
       "      <td>Normal</td>\n",
       "    </tr>\n",
       "    <tr>\n",
       "      <th>1</th>\n",
       "      <td>376.24</td>\n",
       "      <td>Houston</td>\n",
       "      <td>68.0</td>\n",
       "      <td>141.0</td>\n",
       "      <td>1.0</td>\n",
       "      <td>13758.91</td>\n",
       "      <td>Debit</td>\n",
       "      <td>ATM</td>\n",
       "      <td>Doctor</td>\n",
       "      <td>Normal</td>\n",
       "    </tr>\n",
       "    <tr>\n",
       "      <th>2</th>\n",
       "      <td>126.29</td>\n",
       "      <td>Atlanta</td>\n",
       "      <td>19.0</td>\n",
       "      <td>56.0</td>\n",
       "      <td>1.0</td>\n",
       "      <td>1122.35</td>\n",
       "      <td>Debit</td>\n",
       "      <td>Online</td>\n",
       "      <td>Student</td>\n",
       "      <td>Normal</td>\n",
       "    </tr>\n",
       "    <tr>\n",
       "      <th>3</th>\n",
       "      <td>184.50</td>\n",
       "      <td>Austin</td>\n",
       "      <td>26.0</td>\n",
       "      <td>25.0</td>\n",
       "      <td>1.0</td>\n",
       "      <td>8569.06</td>\n",
       "      <td>Debit</td>\n",
       "      <td>Online</td>\n",
       "      <td>Student</td>\n",
       "      <td>Normal</td>\n",
       "    </tr>\n",
       "    <tr>\n",
       "      <th>4</th>\n",
       "      <td>13.45</td>\n",
       "      <td>Atlanta</td>\n",
       "      <td>26.0</td>\n",
       "      <td>198.0</td>\n",
       "      <td>1.0</td>\n",
       "      <td>7429.40</td>\n",
       "      <td>Credit</td>\n",
       "      <td>Online</td>\n",
       "      <td>Student</td>\n",
       "      <td>Normal</td>\n",
       "    </tr>\n",
       "  </tbody>\n",
       "</table>\n",
       "</div>"
      ],
      "text/plain": [
       "   TransactionAmount Location  CustomerAge  TransactionDuration  \\\n",
       "0              14.09   Austin         70.0                 81.0   \n",
       "1             376.24  Houston         68.0                141.0   \n",
       "2             126.29  Atlanta         19.0                 56.0   \n",
       "3             184.50   Austin         26.0                 25.0   \n",
       "4              13.45  Atlanta         26.0                198.0   \n",
       "\n",
       "   LoginAttempts  AccountBalance TransactionType Channel CustomerOccupation  \\\n",
       "0            1.0         5112.21           Debit     ATM             Doctor   \n",
       "1            1.0        13758.91           Debit     ATM             Doctor   \n",
       "2            1.0         1122.35           Debit  Online            Student   \n",
       "3            1.0         8569.06           Debit  Online            Student   \n",
       "4            1.0         7429.40          Credit  Online            Student   \n",
       "\n",
       "  AccountStatus  \n",
       "0        Normal  \n",
       "1        Normal  \n",
       "2        Normal  \n",
       "3        Normal  \n",
       "4        Normal  "
      ]
     },
     "execution_count": 4,
     "metadata": {},
     "output_type": "execute_result"
    }
   ],
   "source": [
    "df_classification.head()"
   ]
  },
  {
   "cell_type": "markdown",
   "metadata": {
    "id": "KkPem5eWL2UP"
   },
   "source": [
    "# **3. Data Splitting**"
   ]
  },
  {
   "cell_type": "markdown",
   "metadata": {
    "id": "YYj1rl_JNI9Y"
   },
   "source": [
    "Tahap Data Splitting bertujuan untuk memisahkan dataset menjadi dua bagian: data latih (training set) dan data uji (test set)."
   ]
  },
  {
   "cell_type": "code",
   "execution_count": 5,
   "metadata": {
    "id": "OubAW-7ONKVj"
   },
   "outputs": [
    {
     "name": "stdout",
     "output_type": "stream",
     "text": [
      "Ukuran X_train: (2009, 9), Ukuran X_test: (503, 9)\n",
      "Distribusi label di y_train:\n",
      "AccountStatus\n",
      "Normal        0.967646\n",
      "Suspicious    0.019910\n",
      "Fraud         0.012444\n",
      "Name: proportion, dtype: float64\n",
      "Distribusi label di y_test:\n",
      "AccountStatus\n",
      "Normal        0.968191\n",
      "Suspicious    0.019881\n",
      "Fraud         0.011928\n",
      "Name: proportion, dtype: float64\n"
     ]
    }
   ],
   "source": [
    "X = df_classification.drop(columns=[\"AccountStatus\"]) \n",
    "y = df_classification[\"AccountStatus\"]\n",
    "\n",
    "X_train, X_test, y_train, y_test = train_test_split(X, y, test_size=0.2, random_state=42, stratify=y)\n",
    "\n",
    "print(f\"Ukuran X_train: {X_train.shape}, Ukuran X_test: {X_test.shape}\")\n",
    "print(f\"Distribusi label di y_train:\\n{y_train.value_counts(normalize=True)}\")\n",
    "print(f\"Distribusi label di y_test:\\n{y_test.value_counts(normalize=True)}\")"
   ]
  },
  {
   "cell_type": "markdown",
   "metadata": {},
   "source": [
    "Mermisahkan fitur ke dataframe X dan label/target ke dataframe Y, lalu data di split menjadi 80% data training dan 20% data test. Namun perlu diperhatikan distribusi data yang tidak normal mungkin bisa menjadi salah satu faktor kesalahan prediksi."
   ]
  },
  {
   "cell_type": "markdown",
   "metadata": {
    "id": "IVPbB03CMhTT"
   },
   "source": [
    "# **4. Membangun Model Klasifikasi**\n"
   ]
  },
  {
   "cell_type": "markdown",
   "metadata": {
    "id": "Ned1pL9zMmBK"
   },
   "source": [
    "## **a. Membangun Model Klasifikasi**"
   ]
  },
  {
   "cell_type": "markdown",
   "metadata": {
    "id": "WAWzPOE4Nkti"
   },
   "source": [
    "Setelah memilih algoritma klasifikasi yang sesuai, langkah selanjutnya adalah melatih model menggunakan data latih.\n",
    "\n",
    "Berikut adalah rekomendasi tahapannya.\n",
    "1. Pilih algoritma klasifikasi yang sesuai, seperti Logistic Regression, Decision Tree, Random Forest, atau K-Nearest Neighbors (KNN).\n",
    "2. Latih model menggunakan data latih."
   ]
  },
  {
   "cell_type": "code",
   "execution_count": 6,
   "metadata": {
    "id": "4JYxBe87NLDk"
   },
   "outputs": [],
   "source": [
    "fitur_numerik = [\"TransactionAmount\", \"TransactionDuration\", \"AccountBalance\", \"LoginAttempts\", \"CustomerAge\"]\n",
    "fitur_kategori = [\"Location\", \"TransactionType\", \"Channel\", \"CustomerOccupation\"]\n",
    "\n",
    "# Encoding dan Standarisasi\n",
    "preprocessor = ColumnTransformer([\n",
    "    (\"num\", StandardScaler(), fitur_numerik),\n",
    "    (\"cat\", OneHotEncoder(handle_unknown=\"ignore\"), fitur_kategori)\n",
    "])"
   ]
  },
  {
   "cell_type": "markdown",
   "metadata": {},
   "source": [
    "Membuat Preprocessor untuk encoding menggunakan one-hot encoding dan menormalisasi fitur-fitur numerik."
   ]
  },
  {
   "cell_type": "code",
   "execution_count": 7,
   "metadata": {},
   "outputs": [],
   "source": [
    "# Pipeline decision tree\n",
    "dt_pipeline = Pipeline([\n",
    "    (\"preprocessor\", preprocessor),\n",
    "    (\"classifier\", DecisionTreeClassifier(random_state=42))\n",
    "])\n",
    "\n",
    "# Pipeline random forest\n",
    "rf_pipeline = Pipeline([\n",
    "    (\"preprocessor\", preprocessor),\n",
    "    (\"classifier\", RandomForestClassifier(random_state=42))\n",
    "])"
   ]
  },
  {
   "cell_type": "markdown",
   "metadata": {},
   "source": [
    "Membuat Pipeline untuk membuat struktur dari pemrosesan data dan pelatihan model, sehingga preprocessing data hanya pada data latih saja."
   ]
  },
  {
   "cell_type": "code",
   "execution_count": 8,
   "metadata": {},
   "outputs": [],
   "source": [
    "# Train Model Decision Tree\n",
    "dt_pipeline.fit(X_train, y_train);\n",
    "dt_model = dt_pipeline"
   ]
  },
  {
   "cell_type": "code",
   "execution_count": 9,
   "metadata": {},
   "outputs": [],
   "source": [
    "# Train Model Random Forest\n",
    "rf_pipeline.fit(X_train, y_train);\n",
    "rf_model = rf_pipeline"
   ]
  },
  {
   "cell_type": "markdown",
   "metadata": {
    "id": "seYoHNY3XU1y"
   },
   "source": [
    "Disini saya memilih algoritma decision tree dan random forest, karena kedua algoritma baik dalam mengklasifikasikan kategori, namun pemilihan kedua algoritma ini didasarkan karena rasa penasaran akan perbedaan handling dan performa dari masing masing algoritma."
   ]
  },
  {
   "cell_type": "markdown",
   "metadata": {},
   "source": [
    "Penggunaan Pipeline disini karena data tidak hanya kategori tetapi campuran numerik juga disini diperlukan adanya encoding pada fitur kategorikal dan standarisasi pada fitur numerik. Dengan pipeline akan lebih mudah dan memastikan encoding dan standarisasi hanya training dari data latih."
   ]
  },
  {
   "cell_type": "markdown",
   "metadata": {
    "id": "ergzChZFEL-O"
   },
   "source": [
    "## **b. Evaluasi Model Klasifikasi**"
   ]
  },
  {
   "cell_type": "markdown",
   "metadata": {
    "id": "zOm68u-7NpLT"
   },
   "source": [
    "Berikut adalah **rekomendasi** tahapannya.\n",
    "1. Lakukan prediksi menggunakan data uji.\n",
    "2. Hitung metrik evaluasi seperti Accuracy dan F1-Score (Opsional: Precision dan Recall).\n",
    "3. Buat confusion matrix untuk melihat detail prediksi benar dan salah."
   ]
  },
  {
   "cell_type": "code",
   "execution_count": 12,
   "metadata": {
    "id": "tMq4QAssNLip"
   },
   "outputs": [],
   "source": [
    "y_pred_dt = dt_pipeline.predict(X_test)\n",
    "y_pred_rf = rf_pipeline.predict(X_test)"
   ]
  },
  {
   "cell_type": "code",
   "execution_count": 13,
   "metadata": {},
   "outputs": [
    {
     "name": "stdout",
     "output_type": "stream",
     "text": [
      "=== Evaluasi Decision Tree ===\n",
      "Accuracy: 0.9821\n",
      "F1 Score: 0.9811\n",
      "Precision: 0.9807\n",
      "Recall: 0.9821\n",
      "\n"
     ]
    }
   ],
   "source": [
    "# Evaluasi Decision Tree\n",
    "dt_accuracy = accuracy_score(y_test, y_pred_dt)\n",
    "dt_f1 = f1_score(y_test, y_pred_dt, average='weighted')\n",
    "dt_precision = precision_score(y_test, y_pred_dt, average='weighted')\n",
    "dt_recall = recall_score(y_test, y_pred_dt, average='weighted')\n",
    "\n",
    "print(\"=== Evaluasi Decision Tree ===\")\n",
    "print(f\"Accuracy: {dt_accuracy:.4f}\")\n",
    "print(f\"F1 Score: {dt_f1:.4f}\")\n",
    "print(f\"Precision: {dt_precision:.4f}\")\n",
    "print(f\"Recall: {dt_recall:.4f}\\n\")"
   ]
  },
  {
   "cell_type": "code",
   "execution_count": 14,
   "metadata": {},
   "outputs": [
    {
     "name": "stdout",
     "output_type": "stream",
     "text": [
      "=== Evaluasi Random Forest ===\n",
      "Accuracy: 0.9821\n",
      "F1 Score: 0.9805\n",
      "Precision: 0.9793\n",
      "Recall: 0.9821\n"
     ]
    }
   ],
   "source": [
    "# Evaluasi Random Forest\n",
    "rf_accuracy = accuracy_score(y_test, y_pred_rf)\n",
    "rf_f1 = f1_score(y_test, y_pred_rf, average='weighted')\n",
    "rf_precision = precision_score(y_test, y_pred_rf, average='weighted')\n",
    "rf_recall = recall_score(y_test, y_pred_rf, average='weighted')\n",
    "\n",
    "print(\"=== Evaluasi Random Forest ===\")\n",
    "print(f\"Accuracy: {rf_accuracy:.4f}\")\n",
    "print(f\"F1 Score: {rf_f1:.4f}\")\n",
    "print(f\"Precision: {rf_precision:.4f}\")\n",
    "print(f\"Recall: {rf_recall:.4f}\")"
   ]
  },
  {
   "cell_type": "markdown",
   "metadata": {
    "id": "H4_9OwrsXZlz"
   },
   "source": [
    "**Evaluasi**\n",
    "1. Kedua algoritma memiliki akurasi yang sama, yaitu 98.21%, menunjukkan bahwa keduanya memiliki performa yang sangat baik dalam memprediksi kategori\n",
    "2. Decision Tree memiliki keseimbangan yang lebih baik antara Precision dan Recall dengan F1-score yang lebih tinggi.\n",
    "3. Decision Tree lebih sedikit melakukan kesalahan dalam memprediksi transaksi sebagai Fraud atau Suspicious, karena Precision yang lebih tinggi\n",
    "4. Keduanya mampu mendeteksi transaksi Fraud dan Suspicious dengan tingkat keberhasilan yang setara."
   ]
  },
  {
   "cell_type": "code",
   "execution_count": 15,
   "metadata": {},
   "outputs": [
    {
     "data": {
      "image/png": "[encoded data removed]",
      "text/plain": [
       "<Figure size 600x400 with 2 Axes>"
      ]
     },
     "metadata": {},
     "output_type": "display_data"
    },
    {
     "data": {
      "image/png": "[encoded data removed]",
      "text/plain": [
       "<Figure size 600x400 with 2 Axes>"
      ]
     },
     "metadata": {},
     "output_type": "display_data"
    }
   ],
   "source": [
    "# Plot Confusion Matrix\n",
    "def plot_confusion_matrix(y_test, y_pred, model_name):\n",
    "    cm = confusion_matrix(y_test, y_pred)\n",
    "    plt.figure(figsize=(6,4))\n",
    "    sns.heatmap(cm, annot=True, fmt='d', cmap='Blues', xticklabels=['Normal', 'Fraud', 'Suspicious'], yticklabels=['Normal', 'Fraud', 'Suspicious'])\n",
    "    plt.xlabel('Predicted')\n",
    "    plt.ylabel('Actual')\n",
    "    plt.title(f'Confusion Matrix - {model_name}')\n",
    "    plt.show()\n",
    "\n",
    "# Decision Tree Confusion Matrix\n",
    "plot_confusion_matrix(y_test, y_pred_dt, \"Decision Tree\")\n",
    "\n",
    "# Random Forest Confusion Matrix\n",
    "plot_confusion_matrix(y_test, y_pred_rf, \"Random Forest\")\n"
   ]
  },
  {
   "cell_type": "markdown",
   "metadata": {
    "id": "ZRsOdm4uEgAW"
   },
   "source": [
    "## **e. Analisis Hasil Evaluasi Model Klasifikasi**"
   ]
  },
  {
   "cell_type": "markdown",
   "metadata": {
    "id": "Hm3BhSi6N4_l"
   },
   "source": [
    "Berikut adalah **rekomendasi** tahapannya.\n",
    "1. Evaluasi menunjukan bahwa model Decision Tree memiliki performa yang lebih baik jika melihat dari F1-score dan Precision yang lebih tinggi dibandingkan dengan model Random Forest. Decision Tree maupun Random Forest memiliki accuracy yang sangat tinggi di 98.21% ini menunjukan performa yang sangat baik dalam memprediksi kategori\n",
    "   \n",
    "2. Rekomendasi tindakan selanjutnya : Melakukan SMOTE pada dataset membalancekan sebaran data."
   ]
  }
 ],
 "metadata": {
  "colab": {
   "provenance": []
  },
  "kernelspec": {
   "display_name": "Python 3 (ipykernel)",
   "language": "python",
   "name": "python3"
  },
  "language_info": {
   "codemirror_mode": {
    "name": "ipython",
    "version": 3
   },
   "file_extension": ".py",
   "mimetype": "text/x-python",
   "name": "python",
   "nbconvert_exporter": "python",
   "pygments_lexer": "ipython3",
   "version": "3.12.8"
  }
 },
 "nbformat": 4,
 "nbformat_minor": 4
}
